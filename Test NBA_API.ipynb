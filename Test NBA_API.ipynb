{
 "cells": [
  {
   "cell_type": "code",
   "execution_count": null,
   "id": "ca5442ae",
   "metadata": {},
   "outputs": [],
   "source": [
    "import nba_api\n",
    "import pandas as pd\n",
    "from nba_api.stats.endpoints import playercareerstats\n",
    "from nba_api.stats.static import players\n",
    "import numpy as np\n",
    "import matplotlib.pyplot as plt\n"
   ]
  },
  {
   "cell_type": "code",
   "execution_count": null,
   "id": "82d6d00a",
   "metadata": {},
   "outputs": [],
   "source": [
    "%matplotlib inline\n",
    "\n",
    "plt.style.use('https://raw.githubusercontent.com/h4pZ/rose-pine-matplotlib/main/themes/rose-pine-dawn.mplstyle')"
   ]
  },
  {
   "cell_type": "code",
   "execution_count": null,
   "id": "f8e9a6c2",
   "metadata": {},
   "outputs": [],
   "source": [
    "players = players.get_players()\n",
    "players = pd.DataFrame(players)\n",
    "players\n",
    "\n",
    "# # pandas data frames (optional: pip install pandas)\n",
    "# career.get_data_frames()[0]\n",
    "\n",
    "# # json\n",
    "# #career.get_json()\n",
    "\n",
    "# # dictionary\n",
    "# #career.get_dict()"
   ]
  },
  {
   "cell_type": "code",
   "execution_count": null,
   "id": "1d3da948",
   "metadata": {},
   "outputs": [],
   "source": [
    "# Get Anthony Davis\n",
    "ad_id = players[players['full_name']=='LeBron James']['id'].values[0]\n",
    "career = playercareerstats.PlayerCareerStats(player_id=ad_id).get_data_frames()[0]"
   ]
  },
  {
   "cell_type": "code",
   "execution_count": null,
   "id": "c2be9eda",
   "metadata": {},
   "outputs": [],
   "source": [
    "career"
   ]
  },
  {
   "cell_type": "code",
   "execution_count": null,
   "id": "c1e331b9",
   "metadata": {},
   "outputs": [],
   "source": [
    "plt.rcParams[\"figure.figsize\"] = (18, 10)"
   ]
  },
  {
   "cell_type": "code",
   "execution_count": null,
   "id": "fa65ecb5",
   "metadata": {},
   "outputs": [],
   "source": [
    "plt.plot(career['SEASON_ID'], career['OREB'], label='OREB')\n",
    "plt.plot(career['SEASON_ID'], career['DREB'], label='DREB')\n",
    "plt.title('Lebron James Rebound Data', fontsize=18)\n",
    "plt.xlabel('NBA Season', fontsize=15)\n",
    "plt.ylabel('Rebounds', fontsize=15)\n",
    "plt.legend(fontsize=15)\n",
    "plt.show()"
   ]
  },
  {
   "cell_type": "markdown",
   "id": "c8ecdb1c",
   "metadata": {},
   "source": [
    "# Teams"
   ]
  },
  {
   "cell_type": "code",
   "execution_count": null,
   "id": "8240bf94",
   "metadata": {},
   "outputs": [],
   "source": [
    "from nba_api.stats.static import teams\n",
    "teams = teams.get_teams()\n",
    "teams = pd.DataFrame(teams)\n",
    "teams"
   ]
  },
  {
   "cell_type": "markdown",
   "id": "1fbdd2df",
   "metadata": {},
   "source": [
    "# Scoreboard"
   ]
  },
  {
   "cell_type": "code",
   "execution_count": null,
   "id": "9e4d9cb7",
   "metadata": {},
   "outputs": [],
   "source": [
    "from nba_api.live.nba.endpoints import scoreboard\n",
    "\n",
    "# Today's Score Board\n",
    "games = scoreboard.ScoreBoard()\n",
    "\n",
    "games.get_json()"
   ]
  },
  {
   "cell_type": "code",
   "execution_count": null,
   "id": "d48599d2",
   "metadata": {},
   "outputs": [],
   "source": []
  }
 ],
 "metadata": {
  "kernelspec": {
   "display_name": "Python 3 (ipykernel)",
   "language": "python",
   "name": "python3"
  },
  "language_info": {
   "codemirror_mode": {
    "name": "ipython",
    "version": 3
   },
   "file_extension": ".py",
   "mimetype": "text/x-python",
   "name": "python",
   "nbconvert_exporter": "python",
   "pygments_lexer": "ipython3",
   "version": "3.11.5"
  }
 },
 "nbformat": 4,
 "nbformat_minor": 5
}
